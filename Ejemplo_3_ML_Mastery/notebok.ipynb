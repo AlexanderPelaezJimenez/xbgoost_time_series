{
 "cells": [
  {
   "attachments": {},
   "cell_type": "markdown",
   "metadata": {},
   "source": [
    "[Enlace](https://machinelearningmastery.com/xgboost-for-time-series-forecasting/)"
   ]
  },
  {
   "cell_type": "code",
   "execution_count": 2,
   "metadata": {},
   "outputs": [],
   "source": [
    "import numpy as np\n",
    "import pandas as pd\n",
    "from sklearn.metrics import mean_absolute_error\n",
    "from xgboost import XGBRegressor\n",
    "import matplotlib.pyplot as plt"
   ]
  },
  {
   "attachments": {},
   "cell_type": "markdown",
   "metadata": {},
   "source": [
    "## Time series data preparation"
   ]
  },
  {
   "attachments": {},
   "cell_type": "markdown",
   "metadata": {},
   "source": []
  },
  {
   "cell_type": "code",
   "execution_count": 3,
   "metadata": {},
   "outputs": [],
   "source": [
    "# Transform a time series dataset into a supervised learning dataset\n",
    "\n",
    "def series_to_supervised(data, n_in=1, n_out=1, dropnan=True):\n",
    "    '''\n",
    "    Convierte una serie de tiempo en un conjunto de datos de aprendizaje supervisado.\n",
    "    Argumentos:\n",
    "        data: Secuencia de observaciones como una lista o un DataFrame.\n",
    "        n_in: Número de observaciones retrasadas como entrada (X).\n",
    "        n_out: Número de observaciones como salida (Y).\n",
    "        dropnan: Booleano que indica si se deben eliminar las filas con valores NaN.\n",
    "    Devuelve:\n",
    "        DataFrame de pandas de la serie enmarcada para aprendizaje supervisado.\n",
    "\n",
    "    '''\n",
    "    # Si los datos son una lista, n_vars será 1, de lo contrario será el número de características (columnas) en el conjunto de datos\n",
    "    n_vars = 1 if type(data) is list else data.shape[1]\n",
    "    # Convierte los datos en DataFrame\n",
    "    df = pd.DataFrame(data)\n",
    "    # Inicializa una lista para guardar los datos\n",
    "    cols = list()\n",
    "\n",
    "    # Construye la secuencia de entrada, Input sequence (t-n, ..., t-1)\n",
    "    for i in range(n_in, 0, -1):\n",
    "        cols.append(df.shift(i))\n",
    "    \n",
    "    # Construye la secuencia de pronóstico, Forecast sequence (t, t+1, ..., t+n)\n",
    "    for i in range(0, n_out):\n",
    "        cols.append(df.shift(-i))\n",
    "\n",
    "    # Concatena todas las columnas\n",
    "    agg = pd.concat(cols, axis=1)\n",
    "\n",
    "    # Elimina filas con valores NaN\n",
    "    if dropnan:\n",
    "        agg.dropna(inplace=True)\n",
    "    \n",
    "    return agg.values"
   ]
  },
  {
   "attachments": {},
   "cell_type": "markdown",
   "metadata": {},
   "source": [
    "**Descripción de la función :**\n",
    "\n",
    "1. `series_to_supervised(data, n_in=1, n_out=1, dropnan=True)`: Esta función convierte una serie temporal en un conjunto de datos de aprendizaje supervisado. El argumento 'data' se refiere a la serie temporal de entrada, 'n_in' es el número de pasos de tiempo como entrada (X), y 'n_out' es el número de pasos de tiempo a predecir (Y). 'dropnan' es un booleano que determina si se deben eliminar o no los valores NaN.\n",
    "\n",
    "2. `n_vars = 1 if type(data) is list else data.shape[1]`: Esta línea determina el número de variables de entrada. Si 'data' es una lista, entonces hay una variable. De lo contrario, el número de variables es el número de columnas en los datos.\n",
    "\n",
    "3. `df = DataFrame(data)`: Aquí se convierte la serie temporal de entrada 'data' en un DataFrame de pandas.\n",
    "\n",
    "4. `cols = list()`: Aquí se inicializa una lista vacía para guardar las columnas del DataFrame de salida.\n",
    "\n",
    "5. `for i in range(n_in, 0, -1): cols.append(df.shift(i))`: Este bucle crea las columnas de entrada (X) en el DataFrame de salida. Cada columna es una versión desplazada de la serie temporal de entrada.\n",
    "\n",
    "6. `for i in range(0, n_out): cols.append(df.shift(-i))`: Este bucle crea las columnas de salida (Y) en el DataFrame de salida. Cada columna es una versión desplazada de la serie temporal de entrada.\n",
    "\n",
    "7. `agg = concat(cols, axis=1)`: Aquí se concatena todas las columnas en un solo DataFrame.\n",
    "\n",
    "8. `if dropnan: agg.dropna(inplace=True)`: Esta línea elimina cualquier fila con valores NaN si 'dropnan' es True.\n",
    "\n",
    "9. `return agg.values`: Finalmente, la función devuelve los valores del DataFrame de salida como una matriz numpy."
   ]
  }
 ],
 "metadata": {
  "kernelspec": {
   "display_name": "Python 3",
   "language": "python",
   "name": "python3"
  },
  "language_info": {
   "codemirror_mode": {
    "name": "ipython",
    "version": 3
   },
   "file_extension": ".py",
   "mimetype": "text/x-python",
   "name": "python",
   "nbconvert_exporter": "python",
   "pygments_lexer": "ipython3",
   "version": "3.9.6"
  },
  "orig_nbformat": 4
 },
 "nbformat": 4,
 "nbformat_minor": 2
}
